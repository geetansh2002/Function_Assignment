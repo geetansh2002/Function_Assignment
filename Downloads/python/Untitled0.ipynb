{
 "cells": [
  {
   "cell_type": "markdown",
   "metadata": {
    "id": "WduPqPmCqk-e"
   },
   "source": [
    "1. Write a Python function that takes a list of numbers as input and returns the sum of all even numbers in\n",
    "the list."
   ]
  },
  {
   "cell_type": "code",
   "execution_count": null,
   "metadata": {
    "id": "dGNJD97TqrUL"
   },
   "outputs": [],
   "source": [
    "# answer : even_sum is a Python function that takes a list of numbers as input and returns the sum of all even numbers in the list\n",
    "def even_sum(l):\n",
    "  sum=0\n",
    "  for i in l:\n",
    "    if i%2==0:\n",
    "      sum+=i\n",
    "  return sum"
   ]
  },
  {
   "cell_type": "markdown",
   "metadata": {
    "id": "siJ_zzOFrnex"
   },
   "source": [
    "2.Create a Python function that accepts a string and returns the reverse of that string."
   ]
  },
  {
   "cell_type": "code",
   "execution_count": null,
   "metadata": {
    "id": "ZT78VxFHrsM6"
   },
   "outputs": [],
   "source": [
    "# answer : reverse_str is a Python function that accepts a string and returns the reverse of that string\n",
    "def reverse_str(str):\n",
    "  str2=\"\"\n",
    "  l=len(str)\n",
    "  for i in range(l-1,-1,-1):\n",
    "    str2+=str[i]\n",
    "  return str2\n",
    "print(reverse_str(\"name\"))"
   ]
  },
  {
   "cell_type": "markdown",
   "metadata": {
    "id": "XihpzdA9tvqG"
   },
   "source": [
    "3. Implement a Python function that takes a list of integers and returns a new list containing the squares of\n",
    "each number."
   ]
  },
  {
   "cell_type": "code",
   "execution_count": null,
   "metadata": {
    "id": "23ZMLQYvtzKP"
   },
   "outputs": [],
   "source": [
    "# answer : square is a Python function that takes a list of integers and returns a new list containing the squares of each number.\n",
    "def square(l):\n",
    "  return list(map(lambda x: x*x,l))"
   ]
  },
  {
   "cell_type": "markdown",
   "metadata": {
    "id": "eSg7UnKivQOV"
   },
   "source": [
    "4.Write a Python function that checks if a given number is prime or not from 1 to 200."
   ]
  },
  {
   "cell_type": "code",
   "execution_count": null,
   "metadata": {
    "id": "6pHJ8DV9vSze"
   },
   "outputs": [],
   "source": [
    "# answer : check is a Python function that checks if a given number is prime or not from 1 to 200\n",
    "def check(num):\n",
    "  if num==1: return False\n",
    "  for i in range(2,num):\n",
    "    if num%i==0:\n",
    "      return False\n",
    "  return True\n",
    "for n in range(1, 201):\n",
    "    if check(n):\n",
    "        print(f\"{n} is a prime number.\")\n",
    "    else:\n",
    "        print(f\"{n} is not a prime number.\")"
   ]
  },
  {
   "cell_type": "markdown",
   "metadata": {
    "id": "L-8c0jYgw-LG"
   },
   "source": [
    "5. Create an iterator class in Python that generates the Fibonacci sequence up to a specified number of\n",
    "terms."
   ]
  },
  {
   "cell_type": "code",
   "execution_count": null,
   "metadata": {
    "id": "8N9ZAtzKxCdR"
   },
   "outputs": [],
   "source": [
    "class FibonacciIterator:\n",
    "    def __init__(self, n_terms):\n",
    "        self.n_terms = n_terms  # Total number of terms to generate\n",
    "        self.a, self.b = 0, 1   # Starting values of the Fibonacci sequence\n",
    "        self.current_term = 0   # To track how many terms have been generated\n",
    "\n",
    "    # __iter__ returns the iterator object itself\n",
    "    def __iter__(self):\n",
    "        return self\n",
    "\n",
    "    # __next__ generates the next Fibonacci number\n",
    "    def __next__(self):\n",
    "        if self.current_term >= self.n_terms:\n",
    "            raise StopIteration  # Stop when we reach the desired number of terms\n",
    "        # On each call, return the current Fibonacci number and compute the next one\n",
    "        self.current_term += 1\n",
    "        fib_number = self.a\n",
    "        self.a, self.b = self.b, self.a + self.b  # Move to the next Fibonacci numbers\n",
    "        return fib_number"
   ]
  },
  {
   "cell_type": "markdown",
   "metadata": {
    "id": "KQDSVdVExeak"
   },
   "source": [
    "6. Write a generator function in Python that yields the powers of 2 up to a given exponent."
   ]
  },
  {
   "cell_type": "code",
   "execution_count": null,
   "metadata": {
    "id": "t34L_OPsxgRL"
   },
   "outputs": [],
   "source": [
    "# pow is a generator function in Python that yields the powers of 2 up to a given exponent.\n",
    "def pow(n):\n",
    "  for i in range(n+1):\n",
    "    yield  2**i\n",
    "gen_fun=pow(10)"
   ]
  },
  {
   "cell_type": "markdown",
   "metadata": {
    "id": "ENxyU9XEy3Fj"
   },
   "source": [
    "7. Implement a generator function that reads a file line by line and yields each line as a string."
   ]
  },
  {
   "cell_type": "code",
   "execution_count": null,
   "metadata": {
    "id": "0M33lLJ3y5vZ"
   },
   "outputs": [],
   "source": [
    "def read_file_line_by_line(file_path):\n",
    "    # Open the file using 'with' to ensure it closes properly after reading\n",
    "    with open(file_path, 'r') as file:\n",
    "        # Iterate over each line in the file\n",
    "        for line in file:\n",
    "            yield line.strip()  # Yield the line, removing any trailing newline characters\n",
    "\n",
    "# Example usage:\n",
    "for line in read_file_line_by_line('example.txt'):\n",
    "    print(line)\n"
   ]
  },
  {
   "cell_type": "markdown",
   "metadata": {
    "id": "b79QqReJzSh_"
   },
   "source": [
    "8. Use a lambda function in Python to sort a list of tuples based on the second element of each tuple."
   ]
  },
  {
   "cell_type": "code",
   "execution_count": null,
   "metadata": {
    "id": "9Q6Kk_e4zePq"
   },
   "outputs": [],
   "source": [
    "# answer: sort_fun is function in Python to sort a list of tuples based on the second element of each tuple.\n",
    "def sort_fun(l):\n",
    "  return sorted(l,key=lambda x: x[1])"
   ]
  },
  {
   "cell_type": "markdown",
   "metadata": {
    "id": "6YEHTQec00EB"
   },
   "source": [
    "9. Write a Python program that uses `map()` to convert a list of temperatures from Celsius to Fahrenheit."
   ]
  },
  {
   "cell_type": "code",
   "execution_count": null,
   "metadata": {
    "id": "YRZh1WdV03aI"
   },
   "outputs": [],
   "source": [
    "# answer: c_to_f is function in Python to sort a list of tuples based on the second element of each tuple.\n",
    "def c_to_f(l):\n",
    "  return list(map(lambda x:(x*9/5) +32,l))"
   ]
  },
  {
   "cell_type": "markdown",
   "metadata": {
    "id": "P_S9XVpg1td1"
   },
   "source": [
    "10. Create a Python program that uses `filter()` to remove all the vowels from a given string."
   ]
  },
  {
   "cell_type": "code",
   "execution_count": null,
   "metadata": {
    "id": "ARmbpggI1wJv"
   },
   "outputs": [],
   "source": [
    "# answer: filter_vowels is function in Python to sort a list of tuples based on the second element of each tuple.\n",
    "def filter_vowels(str):\n",
    "  return filter(lambda x: False if x=='a' or x=='A' or x=='e' or x=='E' or x=='i' or x=='I' or x=='o' or x=='O' or x=='u' or x=='U' else True,str)"
   ]
  },
  {
   "cell_type": "markdown",
   "metadata": {
    "id": "WjNaN7ud3d19"
   },
   "source": [
    "11. Imagine an accounting routine used in a book shop. It works on a list with sublists, which look like this...."
   ]
  },
  {
   "cell_type": "code",
   "execution_count": null,
   "metadata": {
    "id": "8JHB0RTe3ke-"
   },
   "outputs": [],
   "source": [
    "def calculate_order(orders):\n",
    "    return list(map(lambda order: (\n",
    "        order[0],\n",
    "        (order[2] * order[3]) + (10 if (order[2] * order[3]) < 100 else 0)\n",
    "    ), orders))"
   ]
  }
 ],
 "metadata": {
  "colab": {
   "provenance": []
  },
  "kernelspec": {
   "display_name": "Python 3 (ipykernel)",
   "language": "python",
   "name": "python3"
  },
  "language_info": {
   "codemirror_mode": {
    "name": "ipython",
    "version": 3
   },
   "file_extension": ".py",
   "mimetype": "text/x-python",
   "name": "python",
   "nbconvert_exporter": "python",
   "pygments_lexer": "ipython3",
   "version": "3.12.4"
  }
 },
 "nbformat": 4,
 "nbformat_minor": 4
}
